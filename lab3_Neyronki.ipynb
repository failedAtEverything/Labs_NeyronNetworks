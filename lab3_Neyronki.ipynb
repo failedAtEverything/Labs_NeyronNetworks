{
  "nbformat": 4,
  "nbformat_minor": 0,
  "metadata": {
    "colab": {
      "provenance": []
    },
    "kernelspec": {
      "name": "python3",
      "display_name": "Python 3"
    },
    "language_info": {
      "name": "python"
    }
  },
  "cells": [
    {
      "cell_type": "code",
      "source": [
        "import numpy as np\n",
        "import matplotlib.pyplot as plt\n",
        "from sklearn.decomposition import PCA\n",
        "from PIL import Image\n",
        "from sklearn.metrics import accuracy_score\n",
        "from sklearn.model_selection import train_test_split, GridSearchCV\n",
        "from sklearn import preprocessing\n",
        "import random"
      ],
      "metadata": {
        "id": "3N683j06RxDZ"
      },
      "execution_count": 56,
      "outputs": []
    },
    {
      "cell_type": "code",
      "source": [
        "from google.colab import drive\n",
        "drive.mount('/content/drive')"
      ],
      "metadata": {
        "colab": {
          "base_uri": "https://localhost:8080/"
        },
        "id": "8IxckfEnR5Pn",
        "outputId": "eb0d8eb1-a041-4759-a94e-39de7a2e1cfe"
      },
      "execution_count": 57,
      "outputs": [
        {
          "output_type": "stream",
          "name": "stdout",
          "text": [
            "Drive already mounted at /content/drive; to attempt to forcibly remount, call drive.mount(\"/content/drive\", force_remount=True).\n"
          ]
        }
      ]
    },
    {
      "cell_type": "code",
      "source": [
        "plt.figure(figsize=(10,10))\n",
        "\n",
        "def get_img(path):\n",
        "  test_img = Image.open(path)\n",
        "  plt.subplot(5,5,i)\n",
        "  plt.imshow(test_img, cmap = \"gray\")\n",
        "  test_img = test_img.convert('1')\n",
        "  test_x = np.array(test_img, np.float32)\n",
        "  test_x = test_x.reshape([-1, 36])\n",
        "  return test_x\n",
        "  "
      ],
      "metadata": {
        "colab": {
          "base_uri": "https://localhost:8080/",
          "height": 34
        },
        "id": "NkAyNz36SC8K",
        "outputId": "68a142a8-427b-4a20-e5e7-f8ab5e0e52a3"
      },
      "execution_count": 58,
      "outputs": [
        {
          "output_type": "display_data",
          "data": {
            "text/plain": [
              "<Figure size 720x720 with 0 Axes>"
            ]
          },
          "metadata": {}
        }
      ]
    },
    {
      "cell_type": "code",
      "source": [
        "x_train = []\n",
        "y_train = []\n",
        "  \n",
        "path = '/content/drive/My Drive/NNlabs/lab2/Triangle/1_'\n",
        "for i in range(1,11,1):\n",
        "  x_train.append(get_img(path + str(i) +'.jpg')[0])\n",
        "  y_train.append(1)"
      ],
      "metadata": {
        "colab": {
          "base_uri": "https://localhost:8080/",
          "height": 131
        },
        "id": "RwkZdSWpSFMg",
        "outputId": "29134ade-78b1-4dc2-d950-9f3dd648edc2"
      },
      "execution_count": 59,
      "outputs": [
        {
          "output_type": "display_data",
          "data": {
            "text/plain": [
              "<Figure size 432x288 with 10 Axes>"
            ],
            "image/png": "[encoded data removed]"
          },
          "metadata": {
            "needs_background": "light"
          }
        }
      ]
    },
    {
      "cell_type": "code",
      "source": [
        "path = '/content/drive/My Drive/NNlabs/lab2/Circle/2_'\n",
        "for i in range(1,11,1):\n",
        "  x_train.append(get_img(path + str(i) +'.jpg')[0])\n",
        "  y_train.append(-1)"
      ],
      "metadata": {
        "id": "cGSmR-_XSGe_",
        "colab": {
          "base_uri": "https://localhost:8080/",
          "height": 131
        },
        "outputId": "179a48d5-ce0e-46a6-8ac2-fcbf0a4524a0"
      },
      "execution_count": 60,
      "outputs": [
        {
          "output_type": "display_data",
          "data": {
            "text/plain": [
              "<Figure size 432x288 with 10 Axes>"
            ],
            "image/png": "[encoded data removed]"
          },
          "metadata": {
            "needs_background": "light"
          }
        }
      ]
    },
    {
      "cell_type": "code",
      "source": [
        "x_test = []\n",
        "y_test = []\n",
        "path = '/content/drive/My Drive/NNlabs/lab2/TestCircle/4_'\n",
        "for i in range(1,6,1):\n",
        "  x_test.append(get_img(path + str(i) +'.jpg')[0])\n",
        "  y_test.append(-1)"
      ],
      "metadata": {
        "id": "BIbmJdOsSJbw",
        "colab": {
          "base_uri": "https://localhost:8080/",
          "height": 86
        },
        "outputId": "49d79bd5-fada-41c8-e489-665ff088dc40"
      },
      "execution_count": 61,
      "outputs": [
        {
          "output_type": "display_data",
          "data": {
            "text/plain": [
              "<Figure size 432x288 with 5 Axes>"
            ],
            "image/png": "[encoded data removed]"
          },
          "metadata": {
            "needs_background": "light"
          }
        }
      ]
    },
    {
      "cell_type": "code",
      "source": [
        "\n",
        "path = '/content/drive/My Drive/NNlabs/lab2/TestTriangle/3_'\n",
        "for i in range(1,6,1):\n",
        "  x_test.append(get_img(path + str(i) +'.jpg')[0])\n",
        "  y_test.append(1)"
      ],
      "metadata": {
        "id": "e2d2hQFhSJvg",
        "colab": {
          "base_uri": "https://localhost:8080/",
          "height": 86
        },
        "outputId": "86848097-90bf-4627-c347-0d0f1c045bc7"
      },
      "execution_count": 62,
      "outputs": [
        {
          "output_type": "display_data",
          "data": {
            "text/plain": [
              "<Figure size 432x288 with 5 Axes>"
            ],
            "image/png": "[encoded data removed]"
          },
          "metadata": {
            "needs_background": "light"
          }
        }
      ]
    },
    {
      "cell_type": "code",
      "execution_count": 63,
      "metadata": {
        "id": "IAfHxXeNRsGJ"
      },
      "outputs": [],
      "source": [
        "def add_bias_feature(a):\n",
        "    a_extended = np.zeros((a.shape[0],a.shape[1]+1))\n",
        "    a_extended[:,:-1] = a\n",
        "    a_extended[:,-1] = int(1)  \n",
        "    return a_extended\n",
        "\n",
        "def linear_func(w, x):\n",
        "  return np.dot(w, x)\n",
        "\n",
        "def polinom_func(w, x):\n",
        "  return np.dot(w, x) ** 2\n",
        "\n",
        "def polinomh_func(w, x):\n",
        "  return (np.dot(w, x) + 1) ** 2\n",
        "\n",
        "class MySVM():\n",
        "    def __init__(self, etha=0.01, alpha=0.1, epochs=100, kernel = \"linear\"):\n",
        "        self._epochs = epochs\n",
        "        self._etha = etha\n",
        "        self._alpha = alpha\n",
        "        self._w = None\n",
        "        self.history_w = []\n",
        "        self.train_errors = None\n",
        "        self.train_loss = None\n",
        "        self.kernel = kernel\n",
        "        self.kernel_funcs = {\n",
        "            'linear': linear_func,\n",
        "            'polinom': polinom_func,\n",
        "            'polinomh' : polinomh_func\n",
        "        }\n",
        "\n",
        "    def fit(self, X_train, Y_train):\n",
        "        X_train = add_bias_feature(X_train)\n",
        "        self._w = np.random.normal(loc=0, scale=0.05, size=X_train.shape[1])\n",
        "        self.history_w.append(self._w)\n",
        "        train_errors = []\n",
        "        train_loss_epoch = []\n",
        "\n",
        "        for epoch in range(self._epochs): \n",
        "            tr_err = 0\n",
        "            tr_loss = 0\n",
        "            for i,x in enumerate(X_train):\n",
        "                margin = Y_train[i]*np.dot(self._w,X_train[i])\n",
        "                if margin >= 1:\n",
        "                    self._w = self._w - self._etha*self._alpha*self._w/self._epochs\n",
        "                    tr_loss += self.soft_margin_loss(X_train[i],Y_train[i])\n",
        "                else:\n",
        "                    self._w = self._w +\\\n",
        "                    self._etha*(Y_train[i]*X_train[i] - self._alpha*self._w/self._epochs)\n",
        "                    tr_err += 1\n",
        "                    tr_loss += self.soft_margin_loss(X_train[i],Y_train[i])\n",
        "                self.history_w.append(self._w)\n",
        "            train_errors.append(tr_err)\n",
        "            train_loss_epoch.append(tr_loss)\n",
        "        self.history_w = np.array(self.history_w)    \n",
        "        self.train_errors = np.array(train_errors)\n",
        "        self.train_loss = np.array(train_loss_epoch) \n",
        "\n",
        "    def predict(self, X:np.array) -> np.array:\n",
        "        y_pred = []\n",
        "        X_extended = add_bias_feature(X)\n",
        "        for i in range(len(X_extended)):\n",
        "            y_pred.append(np.sign(self.kernel_funcs[self.kernel](self._w,X_extended[i])))\n",
        "        return np.array(y_pred)         \n",
        "\n",
        "    def hinge_loss(self, x, y):\n",
        "        return max(0,1 - y*self.kernel_funcs[self.kernel](x, self._w))\n",
        "\n",
        "    def soft_margin_loss(self, x, y):\n",
        "        return self.hinge_loss(x, y) + self._alpha*np.dot(self._w, self._w)"
      ]
    },
    {
      "cell_type": "code",
      "source": [
        "kernels = ['linear','polinom','polinomh']\n",
        "for k in kernels:\n",
        "  svm = MySVM(etha=0.0001, alpha=0.0001, epochs=1000, kernel = k)\n",
        "  svm.fit(np.array(x_train), np.array(y_train))\n",
        "  plt.plot(svm.train_errors, linewidth=2, label = k)\n",
        "plt.grid()\n",
        "plt.legend(prop={'size': 12})\n",
        "plt.show()"
      ],
      "metadata": {
        "colab": {
          "base_uri": "https://localhost:8080/",
          "height": 265
        },
        "id": "UDFVldKSTSrg",
        "outputId": "333bea87-f772-48fa-ae38-13cd21ca41c2"
      },
      "execution_count": 64,
      "outputs": [
        {
          "output_type": "display_data",
          "data": {
            "text/plain": [
              "<Figure size 432x288 with 1 Axes>"
            ],
            "image/png": "[encoded data removed]"
          },
          "metadata": {
            "needs_background": "light"
          }
        }
      ]
    },
    {
      "cell_type": "code",
      "source": [
        "svm = MySVM(etha=0.0001, alpha=0.0001, epochs=1000, kernel = 'linear')\n",
        "svm.fit(np.array(x_train), np.array(y_train))\n",
        "y_pred = svm.predict(np.array(x_test))\n",
        "print(y_pred)"
      ],
      "metadata": {
        "id": "vGH-_3ODaAJM",
        "colab": {
          "base_uri": "https://localhost:8080/"
        },
        "outputId": "7015d886-f37c-486a-d353-af037b0e0bdc"
      },
      "execution_count": 65,
      "outputs": [
        {
          "output_type": "stream",
          "name": "stdout",
          "text": [
            "[-1. -1. -1. -1. -1. -1.  1.  1.  1.  1.]\n"
          ]
        }
      ]
    },
    {
      "cell_type": "code",
      "source": [
        "def minus_to_zero(x):\n",
        "  if x == -1:\n",
        "    return 0\n",
        "  return 1"
      ],
      "metadata": {
        "id": "-MC5aA2OaPhc"
      },
      "execution_count": 66,
      "outputs": []
    },
    {
      "cell_type": "code",
      "source": [
        "acc = accuracy_score(y_test, y_pred)\n",
        "print(\"acc:\" + str(acc))\n",
        "ress = ['Круг', 'Треугольник']\n",
        "plt.figure(figsize=(15,5))\n",
        "for i in range(10):\n",
        "  plt.subplot(1, 10, i + 1)\n",
        "  plt.title(ress[minus_to_zero(y_pred[i])])\n",
        "  img = np.reshape((x_test[i]), [6, 6])\n",
        "  plt.imshow(img, cmap=\"gray\")"
      ],
      "metadata": {
        "id": "SRk0-7zEaetD",
        "colab": {
          "base_uri": "https://localhost:8080/",
          "height": 152
        },
        "outputId": "e5aa45a4-405f-4d75-8130-9ed8e4f9ce58"
      },
      "execution_count": 67,
      "outputs": [
        {
          "output_type": "stream",
          "name": "stdout",
          "text": [
            "acc:0.9\n"
          ]
        },
        {
          "output_type": "display_data",
          "data": {
            "text/plain": [
              "<Figure size 1080x360 with 10 Axes>"
            ],
            "image/png": "[encoded data removed]"
          },
          "metadata": {
            "needs_background": "light"
          }
        }
      ]
    }
  ]
}