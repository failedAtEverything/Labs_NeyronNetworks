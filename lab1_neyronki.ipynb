{
  "nbformat": 4,
  "nbformat_minor": 0,
  "metadata": {
    "colab": {
      "provenance": []
    },
    "kernelspec": {
      "name": "python3",
      "display_name": "Python 3"
    },
    "language_info": {
      "name": "python"
    }
  },
  "cells": [
    {
      "cell_type": "code",
      "execution_count": null,
      "metadata": {
        "id": "tk5ncllg8Bcj"
      },
      "outputs": [],
      "source": [
        "import numpy as np\n",
        "from numpy.random import uniform as rand"
      ]
    },
    {
      "cell_type": "code",
      "source": [
        "# X xor Y or X\n",
        "\n",
        "x = [[0, 0, 1],\n",
        "    [0, 1, 1],\n",
        "    [1, 0, 1],\n",
        "    [1, 1, 1]]\n",
        "\n",
        "y = [0, 1, 1, 1]"
      ],
      "metadata": {
        "id": "dCp88Iv18Hec"
      },
      "execution_count": null,
      "outputs": []
    },
    {
      "cell_type": "markdown",
      "source": [
        "# Метод коррекции ошибок"
      ],
      "metadata": {
        "id": "Oqda_6Hz9F9J"
      }
    },
    {
      "cell_type": "code",
      "source": [
        "def act(x):\n",
        "  return 1 if x >= 0 else 0\n",
        "\n",
        "def predict(weights, signals, act):\n",
        "  return act(np.dot(weights, signals))\n",
        "\n",
        "def train(weights, x, y, act, epochs):\n",
        "  print('training has started')\n",
        "  for epoch in range(epochs):\n",
        "    print(f'{epoch} epoch has started', end='')\n",
        "\n",
        "    errs = []\n",
        "\n",
        "    for index_x in range(len(x)):\n",
        "      #print(f'rule {x[index_x]} w = {weights}, ', end='')\n",
        "      y_pr = predict(weights, x[index_x], act)\n",
        "\n",
        "      error = y_pr - y[index_x]\n",
        "      errs.append(error ** 2)\n",
        "\n",
        "      if not error == 0:\n",
        "        n = 1 if y[index_x] == 1 else -1\n",
        "        for i in range(len(weights)):\n",
        "          weights[i] += n * x[index_x][i]\n",
        "\n",
        "      #print(f'y = {y[index_x]}, pr = {y_pr}, e = {error}, w = {weights}')\n",
        "    errs = np.sum(errs) / 2\n",
        "\n",
        "    print(f', error = {errs}, weights = {weights}')\n",
        "\n",
        "    if errs == 0:\n",
        "      print('training has finished')\n",
        "      break"
      ],
      "metadata": {
        "id": "gFkhps0F9FNX"
      },
      "execution_count": null,
      "outputs": []
    },
    {
      "cell_type": "code",
      "source": [
        "weights = [rand(-0.5, 0.5), rand(-0.5, 0.5), rand(-0.5, 0.5)]\n",
        "\n",
        "\n",
        "print(f'start weights are {weights}')\n",
        "\n",
        "train(weights, x, y, act, 100)"
      ],
      "metadata": {
        "colab": {
          "base_uri": "https://localhost:8080/"
        },
        "id": "mGR8aixUDiOJ",
        "outputId": "6523067f-4394-41d8-f401-2372881672b9"
      },
      "execution_count": null,
      "outputs": [
        {
          "output_type": "stream",
          "name": "stdout",
          "text": [
            "start weights are [0.40466746519383123, -0.16352510435901502, 0.20114617374498966]\n",
            "training has started\n",
            "0 epoch has started, error = 1.0, weights = [0.40466746519383123, 0.836474895640985, 0.20114617374498966]\n",
            "1 epoch has started, error = 1.0, weights = [1.4046674651938313, 0.836474895640985, 0.20114617374498966]\n",
            "2 epoch has started, error = 0.5, weights = [1.4046674651938313, 0.836474895640985, -0.7988538262550103]\n",
            "3 epoch has started, error = 0.0, weights = [1.4046674651938313, 0.836474895640985, -0.7988538262550103]\n",
            "training has finished\n"
          ]
        }
      ]
    }
  ]
}